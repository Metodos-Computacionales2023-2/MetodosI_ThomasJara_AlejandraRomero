{
 "cells": [
  {
   "cell_type": "code",
   "execution_count": 139,
   "metadata": {},
   "outputs": [],
   "source": [
    "import scipy as sp\n",
    "import matplotlib.pyplot as plt\n",
    "import numpy as np\n",
    "import sympy as sym"
   ]
  },
  {
   "cell_type": "markdown",
   "metadata": {},
   "source": [
    "# OPTIMIZACIÓN"
   ]
  },
  {
   "cell_type": "markdown",
   "metadata": {},
   "source": [
    "### Problema 2"
   ]
  },
  {
   "cell_type": "code",
   "execution_count": 170,
   "metadata": {},
   "outputs": [
    {
     "name": "stdout",
     "output_type": "stream",
     "text": [
      "El mínimo de la función es:  0.19999999998923168\n",
      "0.2\n"
     ]
    }
   ],
   "source": [
    "p=[0,0,0]\n",
    "f=lambda x: x[0]**2 +x[1]**2+x[2]**2-2*x[2]+1\n",
    "restri= ({'type': 'eq',\"fun\":lambda x: 2*x[0]-4*x[1]+5*x[2]-2})\n",
    "x = sp.optimize.minimize(f,p,constraints=restri)\n",
    "\n",
    "print('El mínimo de la función es: ', x.fun)\n",
    "print(1/5)"
   ]
  },
  {
   "cell_type": "markdown",
   "metadata": {},
   "source": [
    "### Problema 3"
   ]
  },
  {
   "cell_type": "markdown",
   "metadata": {},
   "source": [
    "a) Dibujo anexado como pdf en la carpeta"
   ]
  },
  {
   "cell_type": "code",
   "execution_count": 172,
   "metadata": {},
   "outputs": [
    {
     "name": "stdout",
     "output_type": "stream",
     "text": [
      "b) El área es: \n"
     ]
    },
    {
     "data": {
      "text/latex": [
       "$\\displaystyle x y + 2 x z + 2 y z = 12$"
      ],
      "text/plain": [
       "Eq(x*y + 2*x*z + 2*y*z, 12)"
      ]
     },
     "execution_count": 172,
     "metadata": {},
     "output_type": "execute_result"
    }
   ],
   "source": [
    "x,y,z = sym.symbols('x y z',real=True)\n",
    "\n",
    "# Caja rectangular -> tres tipos de caras\n",
    "c1 = x*z\n",
    "c2 = y*z\n",
    "c3 = x*y \n",
    "area = sym.Eq(c1*2 + c2*2 + c3,12)\n",
    "print('b) El área es: ')\n",
    "area"
   ]
  },
  {
   "cell_type": "code",
   "execution_count": 164,
   "metadata": {},
   "outputs": [
    {
     "data": {
      "text/plain": [
       " message: Optimization terminated successfully\n",
       " success: True\n",
       "  status: 0\n",
       "     fun: -4.000000340488772\n",
       "       x: [ 2.000e+00  2.000e+00  1.000e+00]\n",
       "     nit: 38\n",
       "     jac: [-2.000e+00 -2.000e+00 -4.000e+00]\n",
       "    nfev: 190\n",
       "    njev: 38"
      ]
     },
     "execution_count": 164,
     "metadata": {},
     "output_type": "execute_result"
    }
   ],
   "source": [
    "p = [1,1,1]\n",
    "f = lambda x: x[0]*x[1]*x[2]*(-1)\n",
    "restri = ( {'type':'eq','fun': lambda x: x[0]*x[1] + 2*x[1]*x[2] + 2*x[0]*x[2] - 12} )\n",
    "min =sp.optimize.minimize(f,p,constraints=restri)\n",
    "min"
   ]
  },
  {
   "cell_type": "code",
   "execution_count": 176,
   "metadata": {},
   "outputs": [
    {
     "name": "stdout",
     "output_type": "stream",
     "text": [
      "El volumen máximo que podrá almacenar el usuario en este producto es:  4.000000340488772\n"
     ]
    }
   ],
   "source": [
    "vol = min.x[0] * min.x[1] * min.x[2]\n",
    "print('El volumen máximo que podrá almacenar el usuario en este producto es: ', vol)"
   ]
  },
  {
   "cell_type": "markdown",
   "metadata": {},
   "source": [
    "# GENERALIDADES DE PROBABILIDAD"
   ]
  },
  {
   "cell_type": "markdown",
   "metadata": {},
   "source": [
    "### Problema 4"
   ]
  },
  {
   "cell_type": "code",
   "execution_count": 142,
   "metadata": {},
   "outputs": [
    {
     "data": {
      "image/png": "[encoded data removed]",
      "text/plain": [
       "<Figure size 640x480 with 1 Axes>"
      ]
     },
     "metadata": {},
     "output_type": "display_data"
    }
   ],
   "source": [
    "def probabilidad_cumpleaños(n):\n",
    "    Nprobabilidad = 1\n",
    "    for i in range(n):\n",
    "        Nprobabilidad *= (365 - i) / 365\n",
    "    \n",
    "    return 1 - Nprobabilidad\n",
    "\n",
    "n_values = range(1, 81)\n",
    "probabilidades = []\n",
    "for i in n_values:\n",
    "    probabilidades.append(probabilidad_cumpleaños(i))\n",
    "\n",
    "plt.plot(n_values, probabilidades)\n",
    "plt.title('Probabilidad de mismo cumpleaños')\n",
    "plt.xlabel('Número de personas')\n",
    "plt.ylabel('Probabilidad')\n",
    "plt.show()"
   ]
  },
  {
   "cell_type": "markdown",
   "metadata": {},
   "source": [
    "### Problema 8"
   ]
  },
  {
   "cell_type": "code",
   "execution_count": 183,
   "metadata": {},
   "outputs": [
    {
     "name": "stdout",
     "output_type": "stream",
     "text": [
      "la probabilidad de obtener dos caras y dos sellos es:  0.3751\n"
     ]
    }
   ],
   "source": [
    "def GetSample(N = int(1e5), ncoins = 4, Weights=None):\n",
    "    \n",
    "    Sample = np.zeros((N,ncoins))\n",
    "    \n",
    "    Events = [1,-1]\n",
    "    \n",
    "    for i in range(N):\n",
    "        \n",
    "        if Weights == None:\n",
    "            Exp = np.random.choice(Events,ncoins)\n",
    "            \n",
    "       # print(Exp)\n",
    "        Sample[i] = Exp\n",
    "        \n",
    "    return Sample\n",
    "\n",
    "N = 100000\n",
    "Sample = GetSample()\n",
    "Frecuencias = 0\n",
    "\n",
    "for i in range(Sample.shape[0]):\n",
    "    sum = 0\n",
    "    for j in range(Sample.shape[1]):\n",
    "        sum += Sample[i,j] \n",
    "            \n",
    "    if sum == 0:\n",
    "        Frecuencias += 1\n",
    "prob = Frecuencias/N\n",
    "\n",
    "print('la probabilidad de obtener dos caras y dos sellos es: ', prob)"
   ]
  },
  {
   "cell_type": "markdown",
   "metadata": {},
   "source": [
    "# Distribuciones continuas de probabilidad"
   ]
  },
  {
   "cell_type": "code",
   "execution_count": 144,
   "metadata": {},
   "outputs": [
    {
     "name": "stdout",
     "output_type": "stream",
     "text": [
      "La función de densidad conjunta es válida\n"
     ]
    }
   ],
   "source": [
    "x = sym.Symbol('x',real=True)\n",
    "y = sym.Symbol('y',real=True)\n",
    "rta = (2/3) * (x + 2*y)\n",
    "\n",
    "probabilidad = sym.integrate(sym.integrate(rta, (x, 0, 1)), (y, 0, 1))\n",
    "if probabilidad == 1:\n",
    "    print('La función de densidad conjunta es válida')\n",
    "else:\n",
    "    print('La función de densidad conjunta no es válida')"
   ]
  },
  {
   "cell_type": "code",
   "execution_count": 145,
   "metadata": {},
   "outputs": [
    {
     "name": "stdout",
     "output_type": "stream",
     "text": [
      "La distribución marginal g(x) es:  0.666666666666667*x + 0.666666666666667\n",
      "La distribución marginal h(y) es:  1.33333333333333*y + 0.333333333333333\n"
     ]
    }
   ],
   "source": [
    "g_x = sym.integrate(rta, (y, 0, 1))\n",
    "h_y = sym.integrate(rta, (x, 0, 1))\n",
    "print(\"La distribución marginal g(x) es: \", g_x)\n",
    "print(\"La distribución marginal h(y) es: \", h_y)"
   ]
  },
  {
   "cell_type": "code",
   "execution_count": 146,
   "metadata": {},
   "outputs": [
    {
     "name": "stdout",
     "output_type": "stream",
     "text": [
      "0.555555555555556\n",
      "0.5555555555555556\n"
     ]
    }
   ],
   "source": [
    "E_x = sym.integrate(x*g_x, (x, 0, 1))\n",
    "print(E_x)\n",
    "print(10/18)"
   ]
  },
  {
   "cell_type": "code",
   "execution_count": 147,
   "metadata": {},
   "outputs": [
    {
     "name": "stdout",
     "output_type": "stream",
     "text": [
      "0.611111111111111\n",
      "0.6111111111111112\n"
     ]
    }
   ],
   "source": [
    "E_y = sym.integrate(y*h_y, (y, 0, 1))\n",
    "print(E_y)\n",
    "print(11/18)"
   ]
  },
  {
   "cell_type": "code",
   "execution_count": 148,
   "metadata": {},
   "outputs": [
    {
     "name": "stdout",
     "output_type": "stream",
     "text": [
      "-0.00617283950617281\n",
      "-0.00617\n"
     ]
    }
   ],
   "source": [
    "E_x_y = sym.integrate(sym.integrate(x*y*rta, (x, 0, 1)), (y, 0, 1))\n",
    "covarianza = E_x_y - E_x*E_y\n",
    "print(covarianza)\n",
    "print(-0.00617)"
   ]
  },
  {
   "cell_type": "code",
   "execution_count": 149,
   "metadata": {},
   "outputs": [
    {
     "name": "stdout",
     "output_type": "stream",
     "text": [
      "-0.00617283950617284\n",
      "-0.00617\n"
     ]
    }
   ],
   "source": [
    "covarianza = sym.integrate(sym.integrate((x-E_x)*(y-E_y)*rta, (x, 0, 1)), (y, 0, 1))\n",
    "print(covarianza)\n",
    "print(-0.00617)"
   ]
  },
  {
   "cell_type": "code",
   "execution_count": 152,
   "metadata": {},
   "outputs": [
    {
     "name": "stdout",
     "output_type": "stream",
     "text": [
      "x y y son dependientes\n"
     ]
    }
   ],
   "source": [
    "F = sym.simplify(g_x*h_y)\n",
    "if F == rta:\n",
    "    print('x y y son independientes')\n",
    "else:\n",
    "    print(\"x y y son dependientes\")"
   ]
  },
  {
   "cell_type": "markdown",
   "metadata": {},
   "source": [
    "# Hidden Markov models"
   ]
  },
  {
   "cell_type": "markdown",
   "metadata": {},
   "source": [
    "# Mínimos cuadrados"
   ]
  },
  {
   "cell_type": "markdown",
   "metadata": {},
   "source": [
    "# Parameter estimation"
   ]
  }
 ],
 "metadata": {
  "kernelspec": {
   "display_name": "Python 3",
   "language": "python",
   "name": "python3"
  },
  "language_info": {
   "codemirror_mode": {
    "name": "ipython",
    "version": 3
   },
   "file_extension": ".py",
   "mimetype": "text/x-python",
   "name": "python",
   "nbconvert_exporter": "python",
   "pygments_lexer": "ipython3",
   "version": "3.11.5"
  }
 },
 "nbformat": 4,
 "nbformat_minor": 2
}
