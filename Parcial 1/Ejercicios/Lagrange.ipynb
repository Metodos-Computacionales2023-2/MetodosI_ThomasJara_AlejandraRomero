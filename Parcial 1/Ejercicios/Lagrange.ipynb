{
 "cells": [
  {
   "cell_type": "code",
   "execution_count": 37,
   "metadata": {},
   "outputs": [],
   "source": [
    "import numpy as np\n",
    "import sympy as sym"
   ]
  },
  {
   "cell_type": "code",
   "execution_count": 38,
   "metadata": {},
   "outputs": [
    {
     "name": "stdout",
     "output_type": "stream",
     "text": [
      "[[1.4        3.5        5.6       ]\n",
      " [0.40079549 0.5941281  0.29802796]]\n"
     ]
    }
   ],
   "source": [
    "datos =np.loadtxt(\"https://raw.githubusercontent.com/asegura4488/Database/main/MetodosComputacionalesReforma/Parabolico.csv\",skiprows=1,delimiter=\",\").T\n",
    "print(datos)"
   ]
  },
  {
   "cell_type": "code",
   "execution_count": 48,
   "metadata": {},
   "outputs": [],
   "source": [
    "def pol_lagrange(data,x,x_i):\n",
    "    prod=[]\n",
    "    for j in range(len(data[0])):\n",
    "        x_j=data[0][j]\n",
    "        #print(x_i,x_j)\n",
    "        if x_i!=x_j:\n",
    "            prod.append((x-x_j)/(x_i-x_j))\n",
    "    return np.prod(prod)\n",
    "\n",
    "\n",
    "def interp_lagrange(data,x):\n",
    "    suma=[]\n",
    "    for i in range(len(data[0])):\n",
    "        x_i=data[0][i]\n",
    "        L_i=pol_lagrange(data,x,x_i)\n",
    "        f_i=data[1][i]\n",
    "        suma.append(L_i*f_i)\n",
    "    return np.asarray(suma)\n",
    "\n",
    "\n",
    "\n"
   ]
  },
  {
   "cell_type": "code",
   "execution_count": 49,
   "metadata": {},
   "outputs": [
    {
     "data": {
      "text/latex": [
       "$\\displaystyle \\left[\\begin{matrix}0.0454416658936478 x^{2} - 0.413519159632195 x + 0.890656651515497 & - 0.134722925734643 x^{2} + 0.943060480142498 x - 1.0562277377596 & 0.0337900176008369 x^{2} - 0.165571086244101 x + 0.165571086244101\\end{matrix}\\right]$"
      ],
      "text/plain": [
       "[0.0454416658936478*x**2 - 0.413519159632195*x + 0.890656651515497, -0.134722925734643*x**2 + 0.943060480142498*x - 1.0562277377596, 0.0337900176008369*x**2 - 0.165571086244101*x + 0.165571086244101]"
      ]
     },
     "execution_count": 49,
     "metadata": {},
     "output_type": "execute_result"
    }
   ],
   "source": [
    "_x = sym.Symbol('x',real=True)\n",
    "\n",
    "f=interp_lagrange(datos,_x)\n",
    "f = sym.simplify(f)\n",
    "f"
   ]
  },
  {
   "cell_type": "code",
   "execution_count": 53,
   "metadata": {},
   "outputs": [
    {
     "data": {
      "text/plain": [
       "array([ 27.59063031, -13.92241432,   1.93528907])"
      ]
     },
     "execution_count": 53,
     "metadata": {},
     "output_type": "execute_result"
    }
   ],
   "source": [
    "np.arctan(interp_lagrange(datos,1))/np.pi*180"
   ]
  },
  {
   "cell_type": "code",
   "execution_count": null,
   "metadata": {},
   "outputs": [],
   "source": []
  }
 ],
 "metadata": {
  "kernelspec": {
   "display_name": "Python 3",
   "language": "python",
   "name": "python3"
  },
  "language_info": {
   "codemirror_mode": {
    "name": "ipython",
    "version": 3
   },
   "file_extension": ".py",
   "mimetype": "text/x-python",
   "name": "python",
   "nbconvert_exporter": "python",
   "pygments_lexer": "ipython3",
   "version": "3.11.5"
  },
  "orig_nbformat": 4
 },
 "nbformat": 4,
 "nbformat_minor": 2
}
