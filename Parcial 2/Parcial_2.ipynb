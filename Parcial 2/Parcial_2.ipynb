{
 "cells": [
  {
   "cell_type": "code",
   "execution_count": 18,
   "metadata": {},
   "outputs": [],
   "source": [
    "import numpy as np"
   ]
  },
  {
   "cell_type": "markdown",
   "metadata": {},
   "source": [
    "Para el numerador usamos cuadratura de Gauss-Legendre debido a que la integral esta entre limites a y b.\n",
    "\n",
    "Los limites los encontramos usando c = λν para encontrar los valores de v inicial y v final\n",
    "luego reemplazamos en hν/kBT esto nos dio:\n",
    "a = 6.239\n",
    "b = 24.955\n"
   ]
  },
  {
   "cell_type": "code",
   "execution_count": 19,
   "metadata": {},
   "outputs": [
    {
     "data": {
      "text/plain": [
       "0.7872948073429804"
      ]
     },
     "execution_count": 19,
     "metadata": {},
     "output_type": "execute_result"
    }
   ],
   "source": [
    "n = 20\n",
    "a = 6.239\n",
    "b = 24.955\n",
    "f_nume = lambda x: (x**3)/(np.exp(x)-1)\n",
    "Roots_nume, Weights_nume = np.polynomial.legendre.leggauss(n)\n",
    "\n",
    "t = 0.5*( (b-a)*Roots_nume + a + b )\n",
    "numerador = 0.5*(b-a)*np.sum(Weights_nume*f_nume(t))\n",
    "numerador"
   ]
  },
  {
   "cell_type": "markdown",
   "metadata": {},
   "source": [
    "Para el denominador usamos cuadratura de Gauss-Laguerre debido a que la integral esta definida entre 0 e inf.\n",
    "\n",
    "Para usas esta cuadratura debemos tener la integral de la forma e^x*f(x) por lo tanto cambiamos la funcion llegando a e^(-x)(x**3/(1-e^-x))"
   ]
  },
  {
   "cell_type": "code",
   "execution_count": 20,
   "metadata": {},
   "outputs": [
    {
     "data": {
      "text/plain": [
       "6.493939402219589"
      ]
     },
     "execution_count": 20,
     "metadata": {},
     "output_type": "execute_result"
    }
   ],
   "source": [
    "Roots_deno, Weights_deno= np.polynomial.laguerre.laggauss(n)\n",
    "f_deno = lambda x: (x**3)/(1-np.exp(-x))\n",
    "\n",
    "denominador = np.sum(Weights_deno*f_deno(Roots_deno))\n",
    "denominador"
   ]
  },
  {
   "cell_type": "code",
   "execution_count": 21,
   "metadata": {},
   "outputs": [
    {
     "data": {
      "text/plain": [
       "0.12123531782170431"
      ]
     },
     "execution_count": 21,
     "metadata": {},
     "output_type": "execute_result"
    }
   ],
   "source": [
    "f = numerador/denominador\n",
    "f"
   ]
  },
  {
   "cell_type": "markdown",
   "metadata": {},
   "source": [
    "Según la página del IDEAM Bogotá-UV el porcentaje de ultravioleta es 7.2%. ¿A\n",
    "qué se debe esta diferencia?\n",
    "\n",
    "El 12% obtenido en los puntos anteriores representa la cantidad de rayos UV emitidos por el sol, sin embargo, el valor medido en la tierra varia a 7.2% debido a la dispersion de la luz causada por las moleculas en la atmosfera haciendo a su vez que podamos ver el cielo de color azul debido a que tiene una longitud de onda mas corta. Este fenomeno se conoce como dispersion de Rayleigh indicando que cuando las moleculas tienen un tamaño menor o similar al de la longitud de onda, la luz sufrira una dispersion resultado de la polarizacion electrica."
   ]
  }
 ],
 "metadata": {
  "kernelspec": {
   "display_name": "Python 3",
   "language": "python",
   "name": "python3"
  },
  "language_info": {
   "codemirror_mode": {
    "name": "ipython",
    "version": 3
   },
   "file_extension": ".py",
   "mimetype": "text/x-python",
   "name": "python",
   "nbconvert_exporter": "python",
   "pygments_lexer": "ipython3",
   "version": "3.11.5"
  },
  "orig_nbformat": 4
 },
 "nbformat": 4,
 "nbformat_minor": 2
}
