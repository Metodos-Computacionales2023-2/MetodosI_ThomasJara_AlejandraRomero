{
 "cells": [
  {
   "cell_type": "code",
   "execution_count": 39,
   "metadata": {},
   "outputs": [],
   "source": [
    "import numpy as np"
   ]
  },
  {
   "cell_type": "code",
   "execution_count": 40,
   "metadata": {},
   "outputs": [],
   "source": [
    "def funcion(x,T,dT):\n",
    "    TD = 300\n",
    "    return (np.tanh(np.sqrt(x**2 + dT**2)*TD / (2*T)) / np.sqrt(x**2 + dT**2))"
   ]
  },
  {
   "cell_type": "code",
   "execution_count": 41,
   "metadata": {},
   "outputs": [],
   "source": [
    "roots, weights =  np.polynomial.laguerre.laggauss(50)"
   ]
  },
  {
   "cell_type": "code",
   "execution_count": 42,
   "metadata": {},
   "outputs": [],
   "source": [
    "NOV=0.3\n",
    "dT=1e-4\n",
    "a=-1\n",
    "b=1"
   ]
  },
  {
   "cell_type": "code",
   "execution_count": 43,
   "metadata": {},
   "outputs": [],
   "source": [
    "def temperatura():\n",
    "    integral=0\n",
    "    condicion=0\n",
    "    T = 1\n",
    "    T_c = None\n",
    "    condicion=True\n",
    "    while T <= 20.0 and condicion:\n",
    "        \n",
    "        I=0\n",
    "        \n",
    "        for i in range(len(weights)):\n",
    "            t=(((b-a)*roots[i])+a+b)/2\n",
    "            I+=(weights[i]*funcion(t,T,dT))\n",
    "        I*=0.5*(b-a)*0.5\n",
    "        if np.abs(I - 1/(NOV)) < dT:\n",
    "            T_c = T\n",
    "            condicion=False\n",
    "            return T_c\n",
    "        else:\n",
    "            T+=dT"
   ]
  },
  {
   "cell_type": "code",
   "execution_count": 44,
   "metadata": {},
   "outputs": [
    {
     "ename": "KeyboardInterrupt",
     "evalue": "",
     "output_type": "error",
     "traceback": [
      "\u001b[1;31m---------------------------------------------------------------------------\u001b[0m",
      "\u001b[1;31mKeyboardInterrupt\u001b[0m                         Traceback (most recent call last)",
      "\u001b[1;32mc:\\Users\\ASUS\\OneDrive - Universidad de los Andes\\Quinto semestre\\Metodos\\MetodosI_ThomasJara_AlejandraRomero\\Parcial 2\\Ejercicios\\Punto 19.ipynb Cell 6\u001b[0m line \u001b[0;36m1\n\u001b[1;32m----> <a href='vscode-notebook-cell:/c%3A/Users/ASUS/OneDrive%20-%20Universidad%20de%20los%20Andes/Quinto%20semestre/Metodos/MetodosI_ThomasJara_AlejandraRomero/Parcial%202/Ejercicios/Punto%2019.ipynb#W5sZmlsZQ%3D%3D?line=0'>1</a>\u001b[0m temperatura()\n",
      "\u001b[1;32mc:\\Users\\ASUS\\OneDrive - Universidad de los Andes\\Quinto semestre\\Metodos\\MetodosI_ThomasJara_AlejandraRomero\\Parcial 2\\Ejercicios\\Punto 19.ipynb Cell 6\u001b[0m line \u001b[0;36m1\n\u001b[0;32m     <a href='vscode-notebook-cell:/c%3A/Users/ASUS/OneDrive%20-%20Universidad%20de%20los%20Andes/Quinto%20semestre/Metodos/MetodosI_ThomasJara_AlejandraRomero/Parcial%202/Ejercicios/Punto%2019.ipynb#W5sZmlsZQ%3D%3D?line=10'>11</a>\u001b[0m \u001b[39mfor\u001b[39;00m i \u001b[39min\u001b[39;00m \u001b[39mrange\u001b[39m(\u001b[39mlen\u001b[39m(weights)):\n\u001b[0;32m     <a href='vscode-notebook-cell:/c%3A/Users/ASUS/OneDrive%20-%20Universidad%20de%20los%20Andes/Quinto%20semestre/Metodos/MetodosI_ThomasJara_AlejandraRomero/Parcial%202/Ejercicios/Punto%2019.ipynb#W5sZmlsZQ%3D%3D?line=11'>12</a>\u001b[0m     t\u001b[39m=\u001b[39m(((b\u001b[39m-\u001b[39ma)\u001b[39m*\u001b[39mroots[i])\u001b[39m+\u001b[39ma\u001b[39m+\u001b[39mb)\u001b[39m/\u001b[39m\u001b[39m2\u001b[39m\n\u001b[1;32m---> <a href='vscode-notebook-cell:/c%3A/Users/ASUS/OneDrive%20-%20Universidad%20de%20los%20Andes/Quinto%20semestre/Metodos/MetodosI_ThomasJara_AlejandraRomero/Parcial%202/Ejercicios/Punto%2019.ipynb#W5sZmlsZQ%3D%3D?line=12'>13</a>\u001b[0m     I\u001b[39m+\u001b[39m\u001b[39m=\u001b[39m(weights[i]\u001b[39m*\u001b[39mfuncion(t,T,dT))\n\u001b[0;32m     <a href='vscode-notebook-cell:/c%3A/Users/ASUS/OneDrive%20-%20Universidad%20de%20los%20Andes/Quinto%20semestre/Metodos/MetodosI_ThomasJara_AlejandraRomero/Parcial%202/Ejercicios/Punto%2019.ipynb#W5sZmlsZQ%3D%3D?line=13'>14</a>\u001b[0m I\u001b[39m*\u001b[39m\u001b[39m=\u001b[39m\u001b[39m0.5\u001b[39m\u001b[39m*\u001b[39m(b\u001b[39m-\u001b[39ma)\u001b[39m*\u001b[39m\u001b[39m0.5\u001b[39m\n\u001b[0;32m     <a href='vscode-notebook-cell:/c%3A/Users/ASUS/OneDrive%20-%20Universidad%20de%20los%20Andes/Quinto%20semestre/Metodos/MetodosI_ThomasJara_AlejandraRomero/Parcial%202/Ejercicios/Punto%2019.ipynb#W5sZmlsZQ%3D%3D?line=14'>15</a>\u001b[0m \u001b[39mif\u001b[39;00m np\u001b[39m.\u001b[39mabs(I \u001b[39m-\u001b[39m \u001b[39m1\u001b[39m\u001b[39m/\u001b[39m(NOV)) \u001b[39m<\u001b[39m dT:\n",
      "\u001b[1;32mc:\\Users\\ASUS\\OneDrive - Universidad de los Andes\\Quinto semestre\\Metodos\\MetodosI_ThomasJara_AlejandraRomero\\Parcial 2\\Ejercicios\\Punto 19.ipynb Cell 6\u001b[0m line \u001b[0;36m3\n\u001b[0;32m      <a href='vscode-notebook-cell:/c%3A/Users/ASUS/OneDrive%20-%20Universidad%20de%20los%20Andes/Quinto%20semestre/Metodos/MetodosI_ThomasJara_AlejandraRomero/Parcial%202/Ejercicios/Punto%2019.ipynb#W5sZmlsZQ%3D%3D?line=0'>1</a>\u001b[0m \u001b[39mdef\u001b[39;00m \u001b[39mfuncion\u001b[39m(x,T,dT):\n\u001b[0;32m      <a href='vscode-notebook-cell:/c%3A/Users/ASUS/OneDrive%20-%20Universidad%20de%20los%20Andes/Quinto%20semestre/Metodos/MetodosI_ThomasJara_AlejandraRomero/Parcial%202/Ejercicios/Punto%2019.ipynb#W5sZmlsZQ%3D%3D?line=1'>2</a>\u001b[0m     TD \u001b[39m=\u001b[39m \u001b[39m300\u001b[39m\n\u001b[1;32m----> <a href='vscode-notebook-cell:/c%3A/Users/ASUS/OneDrive%20-%20Universidad%20de%20los%20Andes/Quinto%20semestre/Metodos/MetodosI_ThomasJara_AlejandraRomero/Parcial%202/Ejercicios/Punto%2019.ipynb#W5sZmlsZQ%3D%3D?line=2'>3</a>\u001b[0m     \u001b[39mreturn\u001b[39;00m (np\u001b[39m.\u001b[39mtanh(np\u001b[39m.\u001b[39msqrt(x\u001b[39m*\u001b[39m\u001b[39m*\u001b[39m\u001b[39m2\u001b[39m \u001b[39m+\u001b[39m dT\u001b[39m*\u001b[39m\u001b[39m*\u001b[39m\u001b[39m2\u001b[39m)\u001b[39m*\u001b[39mTD \u001b[39m/\u001b[39m (\u001b[39m2\u001b[39m\u001b[39m*\u001b[39mT)) \u001b[39m/\u001b[39m np\u001b[39m.\u001b[39;49msqrt(x\u001b[39m*\u001b[39;49m\u001b[39m*\u001b[39;49m\u001b[39m2\u001b[39;49m \u001b[39m+\u001b[39;49m dT\u001b[39m*\u001b[39;49m\u001b[39m*\u001b[39;49m\u001b[39m2\u001b[39;49m))\n",
      "\u001b[1;31mKeyboardInterrupt\u001b[0m: "
     ]
    }
   ],
   "source": [
    "temperatura()"
   ]
  }
 ],
 "metadata": {
  "kernelspec": {
   "display_name": "Python 3",
   "language": "python",
   "name": "python3"
  },
  "language_info": {
   "codemirror_mode": {
    "name": "ipython",
    "version": 3
   },
   "file_extension": ".py",
   "mimetype": "text/x-python",
   "name": "python",
   "nbconvert_exporter": "python",
   "pygments_lexer": "ipython3",
   "version": "3.11.5"
  },
  "orig_nbformat": 4
 },
 "nbformat": 4,
 "nbformat_minor": 2
}
