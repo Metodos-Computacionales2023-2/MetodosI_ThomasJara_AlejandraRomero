{
  "cells": [
    {
      "cell_type": "code",
      "execution_count": 7,
      "metadata": {
        "id": "Qz1CJufEC7tn"
      },
      "outputs": [],
      "source": [
        "import numpy as np"
      ]
    },
    {
      "cell_type": "code",
      "execution_count": 8,
      "metadata": {
        "id": "8SU7i1CRC7tr"
      },
      "outputs": [],
      "source": [
        "def funcion(t,T,dT=1e-4):\n",
        "    TD = 300\n",
        "    return (np.tanh(np.sqrt(t**2 + dT**2)*TD / (2*T)) / np.sqrt(t**2 + dT**2))"
      ]
    },
    {
      "cell_type": "code",
      "execution_count": 9,
      "metadata": {
        "id": "_YD-Fzu-C7ts"
      },
      "outputs": [],
      "source": [
        "roots, weights =  np.polynomial.legendre.leggauss(50)"
      ]
    },
    {
      "cell_type": "code",
      "execution_count": 10,
      "metadata": {
        "id": "gg5LLlbnC7tt"
      },
      "outputs": [],
      "source": [
        "NOV=0.3\n",
        "a=-1\n",
        "b=1\n",
        "Tmax=20\n"
      ]
    },
    {
      "cell_type": "code",
      "execution_count": 11,
      "metadata": {
        "id": "0itV2TANDMOw"
      },
      "outputs": [],
      "source": [
        "def temperatura():\n",
        "  dT=1e-4\n",
        "  condicion=0\n",
        "  T = 1\n",
        "  T_c = None\n",
        "  condicion=True\n",
        "  while T <= Tmax and condicion:\n",
        "\n",
        "\n",
        "        Integral=0\n",
        "\n",
        "        for i in range(len(weights)):\n",
        "          t=((a+b+(b-a)*roots[i]))/2\n",
        "          Integral+=(weights[i]*funcion(t,T))\n",
        "        Integral*=(b-a)*(0.5)**2\n",
        "        if np.abs(Integral - 1/(NOV)) < dT:\n",
        "            T_c = T\n",
        "            condicion=False\n",
        "            return T_c\n",
        "        else:\n",
        "            T+=dT\n",
        "  return T_c\n",
        "\n"
      ]
    },
    {
      "cell_type": "code",
      "execution_count": 12,
      "metadata": {
        "colab": {
          "base_uri": "https://localhost:8080/"
        },
        "id": "Tm38N4uSIEV2",
        "outputId": "ca46d161-4645-42bc-b15e-4e4036da3ef7"
      },
      "outputs": [
        {
          "data": {
            "text/plain": [
              "12.133599999985154"
            ]
          },
          "execution_count": 12,
          "metadata": {},
          "output_type": "execute_result"
        }
      ],
      "source": [
        "temperatura()"
      ]
    }
  ],
  "metadata": {
    "colab": {
      "provenance": []
    },
    "kernelspec": {
      "display_name": "Python 3",
      "language": "python",
      "name": "python3"
    },
    "language_info": {
      "codemirror_mode": {
        "name": "ipython",
        "version": 3
      },
      "file_extension": ".py",
      "mimetype": "text/x-python",
      "name": "python",
      "nbconvert_exporter": "python",
      "pygments_lexer": "ipython3",
      "version": "3.11.5"
    },
    "orig_nbformat": 4
  },
  "nbformat": 4,
  "nbformat_minor": 0
}
